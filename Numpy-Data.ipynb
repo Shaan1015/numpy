{
 "cells": [
  {
   "cell_type": "code",
   "execution_count": 1,
   "metadata": {},
   "outputs": [
    {
     "name": "stdout",
     "output_type": "stream",
     "text": [
      "[1 3 5 7 9]\n"
     ]
    }
   ],
   "source": [
    "#How to extract items that satisfy a given condition from 1D array?\n",
    "#Extract all odd numbers from arr\n",
    "#Input:\n",
    "#arr = np.array([0, 1, 2, 3, 4, 5, 6, 7, 8, 9])\n",
    "import numpy as np\n",
    "arr = np.array([0, 1, 2, 3, 4, 5, 6, 7, 8, 9])\n",
    "print(arr[arr % 2 == 1])"
   ]
  },
  {
   "cell_type": "code",
   "execution_count": 2,
   "metadata": {},
   "outputs": [
    {
     "name": "stdout",
     "output_type": "stream",
     "text": [
      "[ 0 -1  2 -1  4 -1  6 -1  8 -1]\n"
     ]
    }
   ],
   "source": [
    "#2.How to replace items that satisfy a condition with another value in numpy array?\n",
    "#Q. Replace all odd numbers in arr with -1\n",
    "#Input:\n",
    "arr = np.array([0, 1, 2, 3, 4, 5, 6, 7, 8, 9])\n",
    "arr[arr % 2 == 1] = -1\n",
    "print(arr)"
   ]
  },
  {
   "cell_type": "code",
   "execution_count": 3,
   "metadata": {},
   "outputs": [
    {
     "name": "stdout",
     "output_type": "stream",
     "text": [
      "[0 1 2 3 4 5 6 7 8 9]\n"
     ]
    }
   ],
   "source": [
    "#How to replace items that satisfy a condition without affecting the original array?\n",
    "#Replace all odd numbers in arr with -1 without changing arr\n",
    "#Input:\n",
    "#arr = np.array([0, 1, 2, 3, 4, 5, 6, 7, 8, 9])\n",
    "arr = np.arange(10)\n",
    "out = np.where(arr % 2 == 1, -1, arr)\n",
    "print(arr)"
   ]
  },
  {
   "cell_type": "code",
   "execution_count": 4,
   "metadata": {},
   "outputs": [
    {
     "name": "stdout",
     "output_type": "stream",
     "text": [
      "[[0 1 2 3 4]\n",
      " [5 6 7 8 9]]\n"
     ]
    }
   ],
   "source": [
    "#How to reshape an array?\n",
    "#Convert a 1D array to a 2D array with 2 rows\n",
    "#Input:\n",
    "#np.arange(10)\n",
    "#> array([ 0, 1, 2, 3, 4, 5, 6, 7, 8, 9])\n",
    "\n",
    "arr = np.arange(10)\n",
    "print(arr.reshape(2, -1))"
   ]
  },
  {
   "cell_type": "code",
   "execution_count": 5,
   "metadata": {},
   "outputs": [
    {
     "name": "stdout",
     "output_type": "stream",
     "text": [
      "[[0 1 2 3 4]\n",
      " [5 6 7 8 9]\n",
      " [1 1 1 1 1]\n",
      " [1 1 1 1 1]]\n"
     ]
    }
   ],
   "source": [
    "#How to stack two arrays vertically?\n",
    "#Q. Stack arrays a and b vertically\n",
    "#Input\n",
    "#a = np.arange(10).reshape(2,-1)\n",
    "#b = np.repeat(1, 10).reshape(2,-1)\n",
    "\n",
    "a = np.arange(10).reshape(2,-1)\n",
    "b = np.repeat(1, 10).reshape(2,-1)\n",
    "print(np.concatenate([a, b], axis=0))"
   ]
  },
  {
   "cell_type": "code",
   "execution_count": 6,
   "metadata": {},
   "outputs": [
    {
     "name": "stdout",
     "output_type": "stream",
     "text": [
      "[[0 1 2 3 4 1 1 1 1 1]\n",
      " [5 6 7 8 9 1 1 1 1 1]]\n"
     ]
    }
   ],
   "source": [
    "#How to stack two arrays horizontally?\n",
    "#Q. Stack the arrays a and b horizontally\n",
    "#Input\n",
    "#a = np.arange(10).reshape(2,-1)\n",
    "#b = np.repeat(1, 10).reshape(2,-1)\n",
    "\n",
    "a = np.arange(10).reshape(2,-1)\n",
    "b = np.repeat(1,10).reshape(2,-1)\n",
    "print(np.concatenate([a, b], axis=1))"
   ]
  },
  {
   "cell_type": "code",
   "execution_count": 7,
   "metadata": {},
   "outputs": [
    {
     "name": "stdout",
     "output_type": "stream",
     "text": [
      "[1 1 1 2 2 2 3 3 3 1 2 3 1 2 3 1 2 3]\n"
     ]
    }
   ],
   "source": [
    "#How to generate custom sequences in numpy without hardcoding?\n",
    "#Create the following pattern without hardcoding. Use only numpy functions and the below input array a.\n",
    "#Input:\n",
    "#a = np.array([1,2,3])\n",
    "a = np.array([1,2,3])\n",
    "print(np.r_[np.repeat(a, 3), np.tile(a, 3)])"
   ]
  },
  {
   "cell_type": "code",
   "execution_count": 8,
   "metadata": {},
   "outputs": [
    {
     "name": "stdout",
     "output_type": "stream",
     "text": [
      "[2 4]\n"
     ]
    }
   ],
   "source": [
    "#How to get the common items between two python numpy arrays?\n",
    "#QGet the common items between a and b\n",
    "#Input:\n",
    "#a = np.array([1,2,3,2,3,4,3,4,5,6])\n",
    "#b = np.array([7,2,10,2,7,4,9,4,9,8])\n",
    "\n",
    "a = np.array([1,2,3,2,3,4,3,4,5,6])\n",
    "b = np.array([7,2,10,2,7,4,9,4,9,8])\n",
    "print(np.intersect1d(a,b))"
   ]
  },
  {
   "cell_type": "code",
   "execution_count": 9,
   "metadata": {},
   "outputs": [
    {
     "name": "stdout",
     "output_type": "stream",
     "text": [
      "[1 2 3 4]\n"
     ]
    }
   ],
   "source": [
    "#How to remove from one array those items that exist in another?\n",
    "#From array a remove all items present in array b#Input:\n",
    "#a = np.array([1,2,3,4,5])\n",
    "#b = np.array([5,6,7,8,9])\n",
    "\n",
    "a = np.array([1,2,3,4,5])\n",
    "b = np.array([5,6,7,8,9])\n",
    "print(np.setdiff1d(a,b))"
   ]
  },
  {
   "cell_type": "code",
   "execution_count": 10,
   "metadata": {},
   "outputs": [
    {
     "name": "stdout",
     "output_type": "stream",
     "text": [
      "(array([1, 3, 5, 7], dtype=int64),)\n"
     ]
    }
   ],
   "source": [
    "#How to get the positions where elements of two arrays match?\n",
    "#Q. Get the positions where elements of a and b match\n",
    "\n",
    "#Input:\n",
    "\n",
    "#a = np.array([1,2,3,2,3,4,3,4,5,6])\n",
    "#b = np.array([7,2,10,2,7,4,9,4,9,8])\n",
    "\n",
    "a = np.array([1,2,3,2,3,4,3,4,5,6])\n",
    "b = np.array([7,2,10,2,7,4,9,4,9,8])\n",
    "print(np.where(a == b))"
   ]
  },
  {
   "cell_type": "code",
   "execution_count": 11,
   "metadata": {},
   "outputs": [
    {
     "name": "stdout",
     "output_type": "stream",
     "text": [
      "[ 5  6  7  8  9 10]\n"
     ]
    }
   ],
   "source": [
    "\n",
    "#How to extract all numbers between a given range from a numpy array?\n",
    "\n",
    "#Q. Get all items between 5 and 10 from a.\n",
    "\n",
    "#Input:\n",
    "\n",
    "a = np.array([2, 6, 1, 9, 10, 3, 27])\n",
    "a = np.arange(15)\n",
    "index = np.where((a >= 5) & (a <= 10))\n",
    "print(a[index])"
   ]
  },
  {
   "cell_type": "code",
   "execution_count": 12,
   "metadata": {},
   "outputs": [
    {
     "name": "stdout",
     "output_type": "stream",
     "text": [
      "[6. 7. 9. 8. 9. 7. 5.]\n"
     ]
    }
   ],
   "source": [
    "\n",
    "#How to make a python function that handles scalars to work on numpy arrays?\n",
    "#Q. Convert the function maxx that works on two scalars, to work on two arrays.\n",
    "\n",
    "#Input:\n",
    "#def maxx(x, y):\n",
    " #   \"\"\"Get the maximum of two items\"\"\"\n",
    "  #  if x >= y:\n",
    "  #      return x\n",
    "  #  else:\n",
    "  #      return y\n",
    "\n",
    "#maxx(1, 5)\n",
    "#> 5\n",
    "\n",
    "def maxx(x, y):\n",
    "    \"\"\"Get the maximum of two items\"\"\"\n",
    "    if x >= y:\n",
    "        return x\n",
    "    else:\n",
    "        return y\n",
    "\n",
    "pair_max = np.vectorize(maxx, otypes=[float])\n",
    "\n",
    "a = np.array([5, 7, 9, 8, 6, 4, 5])\n",
    "b = np.array([6, 3, 4, 8, 9, 7, 1])\n",
    "print(pair_max(a, b))\n"
   ]
  },
  {
   "cell_type": "code",
   "execution_count": 13,
   "metadata": {},
   "outputs": [
    {
     "name": "stdout",
     "output_type": "stream",
     "text": [
      "[[1 0 2]\n",
      " [4 3 5]\n",
      " [7 6 8]]\n"
     ]
    }
   ],
   "source": [
    "#How to swap two columns in a 2d numpy array?\n",
    "\n",
    "#Q. Swap columns 1 and 2 in the array arr.\n",
    "\n",
    "#arr = np.arange(9).reshape(3,3)\n",
    "#arr\n",
    "\n",
    "arr = np.arange(9).reshape(3,3)\n",
    "arr\n",
    "print(arr[:, [1,0,2]])"
   ]
  },
  {
   "cell_type": "code",
   "execution_count": 14,
   "metadata": {},
   "outputs": [
    {
     "name": "stdout",
     "output_type": "stream",
     "text": [
      "[[3 4 5]\n",
      " [0 1 2]\n",
      " [6 7 8]]\n"
     ]
    }
   ],
   "source": [
    "#How to swap two rows in a 2d numpy array?\n",
    "#Q. Swap rows 1 and 2 in the array arr:\n",
    "\n",
    "#arr = np.arange(9).reshape(3,3)\n",
    "#arr\n",
    "import numpy as np\n",
    "arr = np.arange(9).reshape(3,3)\n",
    "print(arr[[1,0,2], :])"
   ]
  },
  {
   "cell_type": "code",
   "execution_count": 15,
   "metadata": {},
   "outputs": [
    {
     "name": "stdout",
     "output_type": "stream",
     "text": [
      "[[6 7 8]\n",
      " [3 4 5]\n",
      " [0 1 2]]\n"
     ]
    }
   ],
   "source": [
    "#How to reverse the rows of a 2D array?\n",
    "\n",
    "#Q. Reverse the rows of a 2D array arr.\n",
    "\n",
    "# Input\n",
    "#arr = np.arange(9).reshape(3,3)\n",
    "import numpy as np \n",
    "arr = np.arange(9).reshape(3,3)\n",
    "print(arr[::-1])"
   ]
  },
  {
   "cell_type": "code",
   "execution_count": 16,
   "metadata": {},
   "outputs": [
    {
     "name": "stdout",
     "output_type": "stream",
     "text": [
      "[[2 1 0]\n",
      " [5 4 3]\n",
      " [8 7 6]]\n"
     ]
    }
   ],
   "source": [
    "#How to reverse the columns of a 2D array?\n",
    "\n",
    "#Q. Reverse the columns of a 2D array arr.\n",
    "\n",
    "# Input\n",
    "#arr = np.arange(9).reshape(3,3)\n",
    "\n",
    "arr = np.arange(9).reshape(3,3)\n",
    "print(arr[:, ::-1])"
   ]
  },
  {
   "cell_type": "code",
   "execution_count": 17,
   "metadata": {},
   "outputs": [
    {
     "name": "stdout",
     "output_type": "stream",
     "text": [
      "[[5.36979791 6.23968487 7.01067277]\n",
      " [6.08733072 8.31984563 9.64488759]\n",
      " [5.78734562 9.46977214 5.74098149]\n",
      " [8.64747739 5.44862901 6.79842436]\n",
      " [7.21502772 5.5146358  7.58699327]]\n"
     ]
    }
   ],
   "source": [
    "#How to create a 2D array containing random floats between 5 and 10?\n",
    "\n",
    "#Q. Create a 2D array of shape 5x3 to contain random decimal numbers between 5 and 10.\n",
    "# Inputimport numpy as np\n",
    "\n",
    "arr = np.arange(9).reshape(3,3)\n",
    "rand_arr = np.random.randint(low=5, high=10, size=(5,3)) + np.random.random((5,3))\n",
    "print(rand_arr)"
   ]
  },
  {
   "cell_type": "code",
   "execution_count": 18,
   "metadata": {},
   "outputs": [
    {
     "name": "stdout",
     "output_type": "stream",
     "text": [
      "[[0.461 0.045 0.595]\n",
      " [0.459 0.389 0.265]\n",
      " [0.815 0.282 0.339]\n",
      " [0.129 0.985 0.367]]\n"
     ]
    }
   ],
   "source": [
    "#How to print only 3 decimal places in python numpy array?\n",
    "\n",
    "#Q. Print or show only 3 decimal places of the numpy array rand_arr.\n",
    "\n",
    "#Input:\n",
    "\n",
    "#rand_arr = np.random.random((5,3))\n",
    "import numpy as np\n",
    "rand_arr = np.random.random((5,3))\n",
    "\n",
    "# Create the random array\n",
    "rand_arr = np.random.random([5,3])\n",
    "\n",
    "# Limit to 3 decimal places\n",
    "np.set_printoptions(precision=3)\n",
    "print(rand_arr[:4])"
   ]
  },
  {
   "cell_type": "code",
   "execution_count": 19,
   "metadata": {},
   "outputs": [
    {
     "name": "stdout",
     "output_type": "stream",
     "text": [
      "[[5.434e-04 2.784e-04 4.245e-04]\n",
      " [8.448e-04 4.719e-06 1.216e-04]\n",
      " [6.707e-04 8.259e-04 1.367e-04]]\n"
     ]
    }
   ],
   "source": [
    "\n",
    "#How to pretty print a numpy array by suppressing the scientific notation (like 1e10)?\n",
    "\n",
    "#Q. Pretty print rand_arr by suppressing the scientific notation (like 1e10)\n",
    "\n",
    "#Input:\n",
    "\n",
    "# Create the random array\n",
    "#np.random.seed(100)\n",
    "#rand_arr = np.random.random([3,3])/1e3\n",
    "#rand_arr\n",
    "\n",
    "#> array([[  5.434049e-04,   2.783694e-04,   4.245176e-04],\n",
    "#>        [  8.447761e-04,   4.718856e-06,   1.215691e-04],\n",
    "#>        [  6.707491e-04,   8.258528e-04,   1.367066e-04]]\n",
    "# Reset printoptions to default\n",
    "\n",
    "np.set_printoptions(suppress=False)\n",
    "\n",
    "# Create the random array\n",
    "\n",
    "np.random.seed(100)\n",
    "rand_arr = np.random.random([3,3])/1e3\n",
    "print(rand_arr)"
   ]
  },
  {
   "cell_type": "code",
   "execution_count": 20,
   "metadata": {},
   "outputs": [
    {
     "name": "stdout",
     "output_type": "stream",
     "text": [
      "[ 0  1  2 ... 12 13 14]\n"
     ]
    }
   ],
   "source": [
    "\n",
    "#How to limit the number of items printed in output of numpy array?\n",
    "\n",
    "#Q. Limit the number of items printed in python numpy array a to a maximum of 6 elements.\n",
    "#Input:\n",
    "\n",
    "#a = np.arange(15)\n",
    "#> array([ 0,  1,  2,  3,  4,  5,  6,  7,  8,  9, 10, 11, 12, 13, 14])\n",
    "\n",
    "np.set_printoptions(threshold=6)\n",
    "a = np.arange(15)\n",
    "print(a)"
   ]
  },
  {
   "cell_type": "code",
   "execution_count": null,
   "metadata": {},
   "outputs": [],
   "source": []
  },
  {
   "cell_type": "code",
   "execution_count": null,
   "metadata": {},
   "outputs": [],
   "source": []
  }
 ],
 "metadata": {
  "kernelspec": {
   "display_name": "Python 3",
   "language": "python",
   "name": "python3"
  },
  "language_info": {
   "codemirror_mode": {
    "name": "ipython",
    "version": 3
   },
   "file_extension": ".py",
   "mimetype": "text/x-python",
   "name": "python",
   "nbconvert_exporter": "python",
   "pygments_lexer": "ipython3",
   "version": "3.8.5"
  }
 },
 "nbformat": 4,
 "nbformat_minor": 4
}
