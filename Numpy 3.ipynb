{
 "cells": [
  {
   "cell_type": "markdown",
   "metadata": {},
   "source": [
    "#  1.How to get the common items between two python numpy arrays?\n",
    "* Q. Get the common items between a and b\n",
    "* Input:\n",
    "* a = np.array([1,2,3,2,3,4,3,4,5,6])\n",
    "* b = np.array([7,2,10,2,7,4,9,4,9,8])"
   ]
  },
  {
   "cell_type": "code",
   "execution_count": 1,
   "metadata": {},
   "outputs": [
    {
     "name": "stdout",
     "output_type": "stream",
     "text": [
      "[2 4]\n"
     ]
    }
   ],
   "source": [
    "import numpy as np\n",
    "# create 2 arrays\n",
    "a = np.array([1,2,3,2,3,4,3,4,5,6])\n",
    "b = np.array([7,2,10,2,7,4,9,4,9,8])\n",
    "# use the np.intersect1d method\n",
    "c = np.intersect1d(a, b)\n",
    "print(c)"
   ]
  },
  {
   "cell_type": "markdown",
   "metadata": {},
   "source": [
    "# 2. How to remove from one array those items that exist in another?\n",
    "* Q. From array a remove all items present in array b\n",
    "* Input:\n",
    "* a = np.array([1,2,3,4,5])\n",
    "* b = np.array([5,6,7,8,9])"
   ]
  },
  {
   "cell_type": "code",
   "execution_count": 2,
   "metadata": {},
   "outputs": [
    {
     "name": "stdout",
     "output_type": "stream",
     "text": [
      "[1 2 3 4]\n"
     ]
    }
   ],
   "source": [
    "a = np.array([1,2,3,4,5])\n",
    "b = np.array([5,6,7,8,9])\n",
    "c = np.setdiff1d(a, b)\n",
    "print(c)"
   ]
  },
  {
   "cell_type": "markdown",
   "metadata": {},
   "source": [
    "# 3.How to get the positions where elements of two arrays match?\n",
    "* Q. Get the positions where elements of a and b match\n",
    "* Input:\n",
    "* a = np.array([1,2,3,2,3,4,3,4,5,6])\n",
    "* b = np.array([7,2,10,2,7,4,9,4,9,8])"
   ]
  },
  {
   "cell_type": "code",
   "execution_count": 3,
   "metadata": {},
   "outputs": [
    {
     "name": "stdout",
     "output_type": "stream",
     "text": [
      "(array([1, 3, 5, 7], dtype=int64),)\n"
     ]
    }
   ],
   "source": [
    "a = np.array([1,2,3,2,3,4,3,4,5,6])\n",
    "b = np.array([7,2,10,2,7,4,9,4,9,8])\n",
    "\n",
    "print(np.where(a == b))"
   ]
  },
  {
   "cell_type": "markdown",
   "metadata": {},
   "source": [
    "# 4.How to extract all numbers between a given range from a numpy array?\n",
    "* Q. Get all items between 5 and 10 from a.\n",
    "* Input:\n",
    "* a = np.array([2, 6, 1, 9, 10, 3, 27])"
   ]
  },
  {
   "cell_type": "code",
   "execution_count": 4,
   "metadata": {},
   "outputs": [
    {
     "name": "stdout",
     "output_type": "stream",
     "text": [
      "[ 5  6  7  8  9 10]\n"
     ]
    }
   ],
   "source": [
    "a = np.arange(15)\n",
    "index = np.where((a >= 5) & (a <= 10))\n",
    "print(a[index])"
   ]
  },
  {
   "cell_type": "markdown",
   "metadata": {},
   "source": [
    "# 5.How to make a python function that handles scalars to work on numpy arrays?\n",
    "* Q. Convert the function maxx that works on two scalars, to work on two arrays.\n",
    "* Input:\n",
    "* def maxx(x, y): \"\"\"Get the maximum of two items\"\"\" if x >= y:\n",
    "* return x *else:\n",
    "* return y\n",
    "* maxx(1, 5) #> 5"
   ]
  },
  {
   "cell_type": "code",
   "execution_count": 5,
   "metadata": {},
   "outputs": [
    {
     "name": "stdout",
     "output_type": "stream",
     "text": [
      "[6. 7. 9. 8. 9. 7. 5.]\n"
     ]
    }
   ],
   "source": [
    "def maxx(x, y):\n",
    "    \"\"\"Get the maximum of two items\"\"\"\n",
    "    if x >= y:\n",
    "        return x\n",
    "    else:\n",
    "        return y\n",
    "\n",
    "pair_max = np.vectorize(maxx, otypes=[float])\n",
    "\n",
    "a = np.array([5, 7, 9, 8, 6, 4, 5])\n",
    "b = np.array([6, 3, 4, 8, 9, 7, 1])\n",
    "\n",
    "print(pair_max(a, b))"
   ]
  },
  {
   "cell_type": "markdown",
   "metadata": {},
   "source": [
    "# 6. How to swap two columns in a 2d numpy array?¶\n",
    "* Q. Swap columns 1 and 2 in the array arr.\n",
    "* arr = np.arange(9).reshape(3,3)\n",
    "* arr\n",
    "* Show Solution\n",
    "* Input\n",
    "* arr = np.arange(9).reshape(3,3)\n",
    "* arr"
   ]
  },
  {
   "cell_type": "code",
   "execution_count": 6,
   "metadata": {},
   "outputs": [
    {
     "name": "stdout",
     "output_type": "stream",
     "text": [
      "[[1 0 2]\n",
      " [4 3 5]\n",
      " [7 6 8]]\n"
     ]
    }
   ],
   "source": [
    "arr = np.arange(9).reshape(3,3)\n",
    "arr\n",
    "print(arr[:, [1,0,2]])"
   ]
  },
  {
   "cell_type": "markdown",
   "metadata": {},
   "source": [
    "# 7.How to swap two rows in a 2d numpy array?¶\n",
    "* Q. Swap rows 1 and 2 in the array arr:\n",
    "* arr = np.arange(9).reshape(3,3)\n",
    "* arr\n",
    "* Show Solution\n",
    "* Input\n",
    "* arr = np.arange(9).reshape(3,3)"
   ]
  },
  {
   "cell_type": "code",
   "execution_count": 7,
   "metadata": {},
   "outputs": [
    {
     "name": "stdout",
     "output_type": "stream",
     "text": [
      "[[3 4 5]\n",
      " [0 1 2]\n",
      " [6 7 8]]\n"
     ]
    }
   ],
   "source": [
    "arr = np.arange(9).reshape(3,3)\n",
    "print(arr[[1,0,2], :])"
   ]
  },
  {
   "cell_type": "markdown",
   "metadata": {},
   "source": [
    "# 8. How to reverse the rows of a 2D array?\n",
    "* Q. Reverse the rows of a 2D array arr.\n",
    "* Input\n",
    "* arr = np.arange(9).reshape(3,3)\n",
    "* Show Solution\n",
    "* Input\n",
    "* arr = np.arange(9).reshape(3,3)"
   ]
  },
  {
   "cell_type": "code",
   "execution_count": 8,
   "metadata": {},
   "outputs": [
    {
     "name": "stdout",
     "output_type": "stream",
     "text": [
      "[[6 7 8]\n",
      " [3 4 5]\n",
      " [0 1 2]]\n"
     ]
    }
   ],
   "source": [
    "arr = np.arange(9).reshape(3,3)\n",
    "print(arr[::-1])"
   ]
  },
  {
   "cell_type": "markdown",
   "metadata": {},
   "source": [
    "# 9. How to reverse the columns of a 2D array?\n",
    "* Q. Reverse the columns of a 2D array arr.\n",
    "* Input\n",
    "* arr = np.arange(9).reshape(3,3)\n",
    "* Show Solution\n",
    "* Input\n",
    "* arr = np.arange(9).reshape(3,3)"
   ]
  },
  {
   "cell_type": "code",
   "execution_count": 9,
   "metadata": {},
   "outputs": [
    {
     "name": "stdout",
     "output_type": "stream",
     "text": [
      "[[2 1 0]\n",
      " [5 4 3]\n",
      " [8 7 6]]\n"
     ]
    }
   ],
   "source": [
    "arr = np.arange(9).reshape(3,3)\n",
    "print(arr[:, ::-1])"
   ]
  },
  {
   "cell_type": "markdown",
   "metadata": {},
   "source": [
    "# 10. How to create a 2D array containing random floats between 5 and 10?\n",
    "* Q. Create a 2D array of shape 5x3 to contain random decimal numbers between 5 and 10.\n",
    "* Show Solution\n",
    "* Input\n",
    "* arr = np.arange(9).reshape(3,3)"
   ]
  },
  {
   "cell_type": "code",
   "execution_count": 10,
   "metadata": {},
   "outputs": [
    {
     "name": "stdout",
     "output_type": "stream",
     "text": [
      "[[7.51439658 5.70736145 7.95087595]\n",
      " [8.70766668 8.83546944 9.2379843 ]\n",
      " [8.85457145 5.15224114 8.22797481]\n",
      " [5.56145876 6.51053357 9.9582221 ]\n",
      " [7.2436776  8.44481452 9.50381813]]\n"
     ]
    }
   ],
   "source": [
    "arr = np.arange(9).reshape(3,3)\n",
    "rand_arr = np.random.randint(low=5, high=10, size=(5,3)) + np.random.random((5,3))\n",
    "print(rand_arr)"
   ]
  },
  {
   "cell_type": "code",
   "execution_count": null,
   "metadata": {},
   "outputs": [],
   "source": []
  }
 ],
 "metadata": {
  "kernelspec": {
   "display_name": "Python 3",
   "language": "python",
   "name": "python3"
  },
  "language_info": {
   "codemirror_mode": {
    "name": "ipython",
    "version": 3
   },
   "file_extension": ".py",
   "mimetype": "text/x-python",
   "name": "python",
   "nbconvert_exporter": "python",
   "pygments_lexer": "ipython3",
   "version": "3.8.5"
  }
 },
 "nbformat": 4,
 "nbformat_minor": 4
}
